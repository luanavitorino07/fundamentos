{
  "nbformat": 4,
  "nbformat_minor": 0,
  "metadata": {
    "colab": {
      "provenance": [],
      "authorship_tag": "ABX9TyPLw0yzTX/4rvdggVlqwMYo",
      "include_colab_link": true
    },
    "kernelspec": {
      "name": "python3",
      "display_name": "Python 3"
    },
    "language_info": {
      "name": "python"
    }
  },
  "cells": [
    {
      "cell_type": "markdown",
      "metadata": {
        "id": "view-in-github",
        "colab_type": "text"
      },
      "source": [
        "<a href=\"https://colab.research.google.com/github/luanavitorino07/fundamentos/blob/main/notebooks/fundamentos_luana.ipynb\" target=\"_parent\"><img src=\"https://colab.research.google.com/assets/colab-badge.svg\" alt=\"Open In Colab\"/></a>"
      ]
    },
    {
      "cell_type": "markdown",
      "source": [
        "# Importação dos programas utilizados"
      ],
      "metadata": {
        "id": "6kaZ-B2WVpLE"
      }
    },
    {
      "cell_type": "code",
      "execution_count": 1,
      "metadata": {
        "id": "8OPwhfyo3HH1"
      },
      "outputs": [],
      "source": [
        "import json\n",
        "import numpy as np\n",
        "import pandas as pd\n",
        "import plotly.express as px"
      ]
    },
    {
      "cell_type": "markdown",
      "source": [
        "# Acesso ao Google Drive"
      ],
      "metadata": {
        "id": "9kieCbvHWFvj"
      }
    },
    {
      "cell_type": "code",
      "source": [
        "from google.colab import drive\n",
        "drive.mount('/content/gdrive', force_remount=True)"
      ],
      "metadata": {
        "colab": {
          "base_uri": "https://localhost:8080/"
        },
        "id": "Z9oeWHuJWPqV",
        "outputId": "22174c0c-b55e-49d4-eec5-2fed56788c14"
      },
      "execution_count": 2,
      "outputs": [
        {
          "output_type": "stream",
          "name": "stdout",
          "text": [
            "Mounted at /content/gdrive\n"
          ]
        }
      ]
    },
    {
      "cell_type": "markdown",
      "source": [
        "# Acesso a base de dados"
      ],
      "metadata": {
        "id": "OR-e2EqiWg0g"
      }
    },
    {
      "cell_type": "code",
      "source": [
        "caminho_padrao = '/content/gdrive/MyDrive'\n",
        "caminho_especifico = '/pibic_jr_2024'\n",
        "caminho_completo = caminho_padrao + caminho_especifico\n"
      ],
      "metadata": {
        "colab": {
          "base_uri": "https://localhost:8080/"
        },
        "id": "kI-MFk8IWleN",
        "outputId": "dcb38794-251f-490e-f48b-b993dcdc272e"
      },
      "execution_count": 6,
      "outputs": [
        {
          "output_type": "stream",
          "name": "stdout",
          "text": [
            "/content/gdrive/MyDrive/pibic_jr_2024\n",
            "/content/gdrive/MyDrive//pibic_jr_2024\n"
          ]
        }
      ]
    },
    {
      "cell_type": "code",
      "source": [],
      "metadata": {
        "id": "1x0WvkmBW_9D"
      },
      "execution_count": null,
      "outputs": []
    }
  ]
}